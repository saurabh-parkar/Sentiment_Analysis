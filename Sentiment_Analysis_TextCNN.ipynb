{
  "nbformat": 4,
  "nbformat_minor": 0,
  "metadata": {
    "colab": {
      "name": "IMDB_Sentiment_Analysis_using_TextCNN.ipynb",
      "provenance": [],
      "authorship_tag": "ABX9TyPfq54mgVuh9tjTr+YiIupV",
      "include_colab_link": true
    },
    "kernelspec": {
      "name": "python3",
      "display_name": "Python 3"
    }
  },
  "cells": [
    {
      "cell_type": "markdown",
      "metadata": {
        "id": "view-in-github",
        "colab_type": "text"
      },
      "source": [
        "<a href=\"https://colab.research.google.com/github/saurabh-parkar/Sentiment_Analysis/blob/master/Sentiment_Analysis_TextCNN.ipynb\" target=\"_parent\"><img src=\"https://colab.research.google.com/assets/colab-badge.svg\" alt=\"Open In Colab\"/></a>"
      ]
    },
    {
      "cell_type": "code",
      "metadata": {
        "id": "hpW-r6l7JTKo",
        "colab_type": "code",
        "colab": {}
      },
      "source": [
        "import time\n",
        "import torch\n",
        "import random\n",
        "import torch.nn as nn\n",
        "import torch.optim as optim\n",
        "import torch.nn.functional as F\n",
        "\n",
        "from torchtext import data\n",
        "from torchtext import datasets\n",
        "from tqdm import tqdm\n",
        "import matplotlib.pyplot as plt\n",
        "\n",
        "SEED = 1234\n",
        "\n",
        "torch.manual_seed(SEED)\n",
        "torch.backends.cudnn.deterministic = True"
      ],
      "execution_count": 8,
      "outputs": []
    },
    {
      "cell_type": "code",
      "metadata": {
        "id": "eg89tpV7szDB",
        "colab_type": "code",
        "colab": {}
      },
      "source": [
        ""
      ],
      "execution_count": null,
      "outputs": []
    },
    {
      "cell_type": "code",
      "metadata": {
        "id": "DCT_hCr4c09f",
        "colab_type": "code",
        "colab": {}
      },
      "source": [
        "TEXT = data.Field(lower=True, batch_first=True, include_lengths = True)\n",
        "LABEL = data.LabelField(dtype = torch.float)"
      ],
      "execution_count": 2,
      "outputs": []
    },
    {
      "cell_type": "code",
      "metadata": {
        "id": "61nTKrrvc1T1",
        "colab_type": "code",
        "colab": {
          "base_uri": "https://localhost:8080/",
          "height": 52
        },
        "outputId": "bcfffb49-56f9-4ba7-af49-66eef06533fe"
      },
      "source": [
        "train_data, test_data = datasets.IMDB.splits(TEXT, LABEL)\n"
      ],
      "execution_count": 3,
      "outputs": [
        {
          "output_type": "stream",
          "text": [
            "downloading aclImdb_v1.tar.gz\n"
          ],
          "name": "stdout"
        },
        {
          "output_type": "stream",
          "text": [
            "aclImdb_v1.tar.gz: 100%|██████████| 84.1M/84.1M [00:12<00:00, 6.85MB/s]\n"
          ],
          "name": "stderr"
        }
      ]
    },
    {
      "cell_type": "code",
      "metadata": {
        "id": "L-okyh89c2bd",
        "colab_type": "code",
        "colab": {}
      },
      "source": [
        "train_data, valid_data = train_data.split(random_state = random.seed(SEED))"
      ],
      "execution_count": 4,
      "outputs": []
    },
    {
      "cell_type": "code",
      "metadata": {
        "id": "AAwAV6vldWAE",
        "colab_type": "code",
        "colab": {
          "base_uri": "https://localhost:8080/",
          "height": 52
        },
        "outputId": "9cf71cd9-25f3-4163-e0c7-09abd53d6356"
      },
      "source": [
        "MAX_VOCAB_SIZE = 25_000\n",
        "\n",
        "TEXT.build_vocab(train_data, \n",
        "                 max_size = MAX_VOCAB_SIZE, \n",
        "                 vectors = \"glove.6B.100d\", \n",
        "                 unk_init = torch.Tensor.normal_)\n",
        "\n",
        "LABEL.build_vocab(train_data)"
      ],
      "execution_count": 5,
      "outputs": [
        {
          "output_type": "stream",
          "text": [
            ".vector_cache/glove.6B.zip: 862MB [06:30, 2.21MB/s]                          \n",
            "100%|█████████▉| 399222/400000 [00:21<00:00, 18512.54it/s]"
          ],
          "name": "stderr"
        }
      ]
    },
    {
      "cell_type": "code",
      "metadata": {
        "id": "XGGhVo3FdWLx",
        "colab_type": "code",
        "colab": {}
      },
      "source": [
        "\n",
        "BATCH_SIZE = 64\n",
        "\n",
        "device = torch.device('cuda' if torch.cuda.is_available() else 'cpu')\n",
        "\n",
        "train_iterator, valid_iterator, test_iterator = data.BucketIterator.splits(\n",
        "    (train_data, valid_data, test_data), \n",
        "    batch_size = BATCH_SIZE,\n",
        "    sort_within_batch = True,\n",
        "    device = device)"
      ],
      "execution_count": 6,
      "outputs": []
    },
    {
      "cell_type": "code",
      "metadata": {
        "id": "XHUBB8o2L-74",
        "colab_type": "code",
        "colab": {
          "base_uri": "https://localhost:8080/",
          "height": 34
        },
        "outputId": "f3948521-1fa7-46d1-d6ee-f181502d1b72"
      },
      "source": [
        "for i in train_iterator:\n",
        "  print(min ([ min(i.text[1]) for i in train_iterator]))"
      ],
      "execution_count": null,
      "outputs": [
        {
          "output_type": "stream",
          "text": [
            "tensor(10, device='cuda:0')\n"
          ],
          "name": "stdout"
        }
      ]
    },
    {
      "cell_type": "code",
      "metadata": {
        "id": "IpqjTak_ryNQ",
        "colab_type": "code",
        "colab": {}
      },
      "source": [
        "class TextCNN(nn.Module):\n",
        "  def __init__(self, vocab_size, embedding_dim, output_dim, dropout, pad_index):\n",
        "    super().__init__()\n",
        "\n",
        "    self.embedding = nn.Embedding(vocab_size, embedding_dim, padding_idx = pad_index)\n",
        "    \n",
        "    self.convolutions = []\n",
        "    self.filter_num_width = [(64, 3), (64, 4), (64, 5)]\n",
        "\n",
        "    for out_channel, filter_width in self.filter_num_width:\n",
        "      self.convolutions.append(\n",
        "          nn.Conv2d(\n",
        "              1,           # in_channel\n",
        "              out_channel, # out_channel\n",
        "              kernel_size=(embedding_dim, filter_width), # (height, width)\n",
        "              bias=True\n",
        "              )\n",
        "      )\n",
        "\n",
        "    self.lin_input_dim = sum([x for x, y in self.filter_num_width])\n",
        "\n",
        "    self.dropout=nn.Dropout()\n",
        "    self.batch_norm = nn.BatchNorm1d(self.lin_input_dim, affine=False)\n",
        "\n",
        "    self.out = nn.Linear((self.lin_input_dim), output_dim)\n",
        "\n",
        "\n",
        "  def forward(self, text, text_lengths):\n",
        "    # text = [batch size,sent_length]\n",
        "    x = self.embedding(text)\n",
        "    # embedded = [batch size, sent_len, emb dim]\n",
        "\n",
        "    x = torch.transpose(x.view(x.size()[0], 1, x.size()[1], -1), 2, 3)\n",
        "\n",
        "    x = self.conv_layers(x)\n",
        "\n",
        "    x = self.dropout(x)\n",
        "\n",
        "    x = self.out(x)\n",
        "\n",
        "    return x\n",
        "\n",
        "\n",
        "  def conv_layers(self, x):\n",
        "    chosen_list = list()\n",
        "    for conv in self.convolutions:\n",
        "      feature_map = F.tanh(conv(x))\n",
        "      # (batch_size, out_channel, 1, max_word_len-width+1)\n",
        "      chosen = torch.max(feature_map, 3)[0]\n",
        "      # (batch_size, out_channel, 1)            \n",
        "      chosen = chosen.squeeze()\n",
        "      # (batch_size, out_channel)\n",
        "      chosen_list.append(chosen)\n",
        "    \n",
        "    # (batch_size, total_num_filers)\n",
        "    return torch.cat(chosen_list, 1)\n"
      ],
      "execution_count": 36,
      "outputs": []
    },
    {
      "cell_type": "code",
      "metadata": {
        "id": "tYkL-Cz7wzvK",
        "colab_type": "code",
        "colab": {
          "base_uri": "https://localhost:8080/",
          "height": 122
        },
        "outputId": "33f22598-5008-4627-a6af-e6e9c5b7cfa6"
      },
      "source": [
        "INPUT_DIM = len(TEXT.vocab)\n",
        "EMBEDDING_DIM = 100\n",
        "HIDDEN_DIM1 = 256\n",
        "HIDDEN_DIM2 = 100\n",
        "OUTPUT_DIM = 1\n",
        "N_LAYERS = 2\n",
        "BIDIRECTIONAL = True\n",
        "DROPOUT = 0.5\n",
        "PAD_IDX = TEXT.vocab.stoi[TEXT.pad_token]\n",
        "\n",
        "model = TextCNN(INPUT_DIM, EMBEDDING_DIM, OUTPUT_DIM, DROPOUT, PAD_IDX)\n",
        "model"
      ],
      "execution_count": 18,
      "outputs": [
        {
          "output_type": "execute_result",
          "data": {
            "text/plain": [
              "TextCNN(\n",
              "  (embedding): Embedding(25002, 100, padding_idx=1)\n",
              "  (dropout): Dropout(p=0.5, inplace=False)\n",
              "  (batch_norm): BatchNorm1d(192, eps=1e-05, momentum=0.1, affine=False, track_running_stats=True)\n",
              "  (out): Linear(in_features=192, out_features=1, bias=True)\n",
              ")"
            ]
          },
          "metadata": {
            "tags": []
          },
          "execution_count": 18
        }
      ]
    },
    {
      "cell_type": "code",
      "metadata": {
        "id": "uHQDiqnIIJbu",
        "colab_type": "code",
        "colab": {
          "base_uri": "https://localhost:8080/",
          "height": 34
        },
        "outputId": "dbaa280c-a415-4a94-99d6-40a4e288aeee"
      },
      "source": [
        "def count_parameters(model):\n",
        "    return sum(p.numel() for p in model.parameters() if p.requires_grad)\n",
        "\n",
        "print(f'The model has {count_parameters(model)} trainable paramters')"
      ],
      "execution_count": 24,
      "outputs": [
        {
          "output_type": "stream",
          "text": [
            "The model has 2500393 trainable paramters\n"
          ],
          "name": "stdout"
        }
      ]
    },
    {
      "cell_type": "code",
      "metadata": {
        "id": "gbhKJqVKISNZ",
        "colab_type": "code",
        "colab": {
          "base_uri": "https://localhost:8080/",
          "height": 34
        },
        "outputId": "d5a0ebcd-2754-4950-a7f2-494ddf63eaa2"
      },
      "source": [
        "pretrained_embeddings = TEXT.vocab.vectors\n",
        "\n",
        "print(pretrained_embeddings.shape)"
      ],
      "execution_count": 25,
      "outputs": [
        {
          "output_type": "stream",
          "text": [
            "torch.Size([25002, 100])\n"
          ],
          "name": "stdout"
        }
      ]
    },
    {
      "cell_type": "code",
      "metadata": {
        "id": "HRhY6SCGIwX0",
        "colab_type": "code",
        "colab": {
          "base_uri": "https://localhost:8080/",
          "height": 140
        },
        "outputId": "fdbe9fd5-3be3-42ac-d8f3-b0cab2a0001a"
      },
      "source": [
        "model.embedding.weight.data.copy_(pretrained_embeddings)\n"
      ],
      "execution_count": 26,
      "outputs": [
        {
          "output_type": "execute_result",
          "data": {
            "text/plain": [
              "tensor([[-0.1117, -0.4966,  0.1631,  ...,  1.2647, -0.2753, -0.1325],\n",
              "        [-0.8555, -0.7208,  1.3755,  ...,  0.0825, -1.1314,  0.3997],\n",
              "        [-0.0382, -0.2449,  0.7281,  ..., -0.1459,  0.8278,  0.2706],\n",
              "        ...,\n",
              "        [-0.4645, -2.2566,  1.2649,  ..., -0.9130, -0.3423,  0.0470],\n",
              "        [-1.4452, -0.6232, -0.5869,  ..., -0.8689,  0.5159,  1.6829],\n",
              "        [ 0.4926,  0.9945,  0.9569,  ...,  0.6560,  0.4407, -0.5550]])"
            ]
          },
          "metadata": {
            "tags": []
          },
          "execution_count": 26
        }
      ]
    },
    {
      "cell_type": "code",
      "metadata": {
        "id": "weDmOBVoIxst",
        "colab_type": "code",
        "colab": {
          "base_uri": "https://localhost:8080/",
          "height": 140
        },
        "outputId": "19082561-26f4-4161-af62-ac79b1465b94"
      },
      "source": [
        "UNK_IDX = TEXT.vocab.stoi[TEXT.unk_token]\n",
        "\n",
        "model.embedding.weight.data[UNK_IDX] = torch.zeros(EMBEDDING_DIM)\n",
        "model.embedding.weight.data[PAD_IDX] = torch.zeros(EMBEDDING_DIM)\n",
        "\n",
        "print(model.embedding.weight.data)"
      ],
      "execution_count": 37,
      "outputs": [
        {
          "output_type": "stream",
          "text": [
            "tensor([[ 0.0000,  0.0000,  0.0000,  ...,  0.0000,  0.0000,  0.0000],\n",
            "        [ 0.0000,  0.0000,  0.0000,  ...,  0.0000,  0.0000,  0.0000],\n",
            "        [-0.0382, -0.2449,  0.7281,  ..., -0.1459,  0.8278,  0.2706],\n",
            "        ...,\n",
            "        [-0.4645, -2.2566,  1.2649,  ..., -0.9130, -0.3423,  0.0470],\n",
            "        [-1.4452, -0.6232, -0.5869,  ..., -0.8689,  0.5159,  1.6829],\n",
            "        [ 0.4926,  0.9945,  0.9569,  ...,  0.6560,  0.4407, -0.5550]])\n"
          ],
          "name": "stdout"
        }
      ]
    },
    {
      "cell_type": "code",
      "metadata": {
        "id": "Ad1Dt3Zc04Np",
        "colab_type": "code",
        "colab": {}
      },
      "source": [
        "optimizer = optim.Adam(model.parameters())\n"
      ],
      "execution_count": 43,
      "outputs": []
    },
    {
      "cell_type": "code",
      "metadata": {
        "id": "2UBkJ6Jp04Sa",
        "colab_type": "code",
        "colab": {}
      },
      "source": [
        "criterion = nn.BCEWithLogitsLoss()\n",
        "\n",
        "model = model.to(device)\n",
        "criterion = criterion.to(device)"
      ],
      "execution_count": 44,
      "outputs": []
    },
    {
      "cell_type": "code",
      "metadata": {
        "id": "engC3kA504Q4",
        "colab_type": "code",
        "colab": {}
      },
      "source": [
        "\n",
        "def accuracy(preds, y):\n",
        "    predicted = torch.round(torch.sigmoid(preds))\n",
        "    correct = (predicted == y).float()\n",
        "    acc = correct.sum() / len(correct)\n",
        "    return acc"
      ],
      "execution_count": 45,
      "outputs": []
    },
    {
      "cell_type": "code",
      "metadata": {
        "id": "4AY-TcXbJG3N",
        "colab_type": "code",
        "colab": {}
      },
      "source": [
        "def train(model, iterator, optimizer, criterion):\n",
        "\n",
        "    model.train()\n",
        "    epoch_loss = 0\n",
        "    epoch_acc = 0\n",
        "    for batch in iterator:\n",
        "        optimizer.zero_grad()\n",
        "        # retrieve text and no. of words\n",
        "        text, text_lengths = batch.text\n",
        "\n",
        "        predictions = model(text, text_lengths).squeeze(1)\n",
        "        loss = criterion(predictions, batch.label.squeeze())\n",
        "\n",
        "        acc = accuracy(predictions, batch.label)\n",
        "\n",
        "        # perform backpropagation\n",
        "        loss.backward()\n",
        "\n",
        "        optimizer.step()\n",
        "\n",
        "        epoch_loss += loss.item()\n",
        "        epoch_acc += acc.item()\n",
        "\n",
        "    return epoch_loss / len(iterator), epoch_acc / len(iterator)"
      ],
      "execution_count": 46,
      "outputs": []
    },
    {
      "cell_type": "code",
      "metadata": {
        "id": "0uE9Bs-e0oO7",
        "colab_type": "code",
        "colab": {}
      },
      "source": [
        "def evaluate(model, iterator, criterion):\n",
        "    epoch_loss = 0\n",
        "    epoch_acc = 0\n",
        "\n",
        "    model.eval()\n",
        "\n",
        "    with torch.no_grad():\n",
        "        for batch in iterator:\n",
        "            text, text_lengths = batch.text\n",
        "\n",
        "            predictions = model(text, text_lengths).squeeze(1)\n",
        "\n",
        "            loss = criterion(predictions, batch.label.squeeze())\n",
        "\n",
        "            acc = accuracy(predictions, batch.label)\n",
        "\n",
        "            epoch_loss += loss.item()\n",
        "            epoch_acc += acc.item()\n",
        "\n",
        "    return epoch_loss / len(iterator), epoch_acc / len(iterator)"
      ],
      "execution_count": 47,
      "outputs": []
    },
    {
      "cell_type": "code",
      "metadata": {
        "id": "6IecUtL80pyo",
        "colab_type": "code",
        "colab": {}
      },
      "source": [
        "def epoch_time(start_time, end_time):\n",
        "    elapsed_time = end_time - start_time\n",
        "    elapsed_mins = int(elapsed_time / 60)\n",
        "    elapsed_secs = int(elapsed_time - (elapsed_mins * 60))\n",
        "    return elapsed_mins, elapsed_secs"
      ],
      "execution_count": 48,
      "outputs": []
    },
    {
      "cell_type": "code",
      "metadata": {
        "id": "ksqMnx6A0s_O",
        "colab_type": "code",
        "colab": {}
      },
      "source": [
        "N_EPOCHS = 10\n",
        "\n",
        "def run_train(epochs, model, train_iterator, valid_iterator, optimizer, criterion, model_type):\n",
        "    best_valid_loss = float('inf')\n",
        "\n",
        "    for epoch in range(epochs):\n",
        "\n",
        "        start_time = time.time()\n",
        "      \n",
        "        # train the model\n",
        "        train_loss, train_acc = train(model, train_iterator, optimizer, criterion)\n",
        "\n",
        "        # evaluate the model\n",
        "        valid_loss, valid_acc = evaluate(model, valid_iterator, criterion)\n",
        "\n",
        "        end_time = time.time()\n",
        "        epoch_mins, epoch_secs = epoch_time(start_time, end_time)\n",
        "\n",
        "\n",
        "        # save the best model\n",
        "        if valid_loss < best_valid_loss:\n",
        "            best_valid_loss = valid_loss\n",
        "            torch.save(model.state_dict(), 'saved_weights'+'_'+model_type+'.pt')\n",
        "\n",
        "        print(f'Epoch: {epoch+1:02} | Epoch Time: {epoch_mins}m {epoch_secs}s')\n",
        "        print(f'\\tTrain Loss: {train_loss:.3f} | Train Acc: {train_acc * 100:.2f}%')\n",
        "        print(f'\\t Val. Loss: {valid_loss:.3f} |  Val. Acc: {valid_acc * 100:.2f}%')"
      ],
      "execution_count": 49,
      "outputs": []
    },
    {
      "cell_type": "code",
      "metadata": {
        "id": "cNHNJ6_P0uyr",
        "colab_type": "code",
        "colab": {
          "base_uri": "https://localhost:8080/",
          "height": 580
        },
        "outputId": "5abc0d1b-9f83-4eff-ee72-c5a2237a6d89"
      },
      "source": [
        "run_train(N_EPOCHS, model, train_iterator, valid_iterator, optimizer, criterion, \"BiLSTM\")"
      ],
      "execution_count": 50,
      "outputs": [
        {
          "output_type": "stream",
          "text": [
            "/usr/local/lib/python3.6/dist-packages/torch/nn/functional.py:1614: UserWarning: nn.functional.tanh is deprecated. Use torch.tanh instead.\n",
            "  warnings.warn(\"nn.functional.tanh is deprecated. Use torch.tanh instead.\")\n"
          ],
          "name": "stderr"
        },
        {
          "output_type": "stream",
          "text": [
            "Epoch: 01 | Epoch Time: 5m 15s\n",
            "\tTrain Loss: 0.709 | Train Acc: 50.44%\n",
            "\t Val. Loss: 0.690 |  Val. Acc: 56.53%\n",
            "Epoch: 02 | Epoch Time: 5m 18s\n",
            "\tTrain Loss: 0.696 | Train Acc: 52.06%\n",
            "\t Val. Loss: 0.689 |  Val. Acc: 53.10%\n",
            "Epoch: 03 | Epoch Time: 5m 19s\n",
            "\tTrain Loss: 0.689 | Train Acc: 53.97%\n",
            "\t Val. Loss: 0.685 |  Val. Acc: 54.74%\n",
            "Epoch: 04 | Epoch Time: 5m 20s\n",
            "\tTrain Loss: 0.680 | Train Acc: 56.51%\n",
            "\t Val. Loss: 0.680 |  Val. Acc: 57.04%\n",
            "Epoch: 05 | Epoch Time: 5m 19s\n",
            "\tTrain Loss: 0.671 | Train Acc: 58.61%\n",
            "\t Val. Loss: 0.669 |  Val. Acc: 63.35%\n",
            "Epoch: 06 | Epoch Time: 5m 20s\n",
            "\tTrain Loss: 0.652 | Train Acc: 61.68%\n",
            "\t Val. Loss: 0.653 |  Val. Acc: 65.68%\n",
            "Epoch: 07 | Epoch Time: 5m 18s\n",
            "\tTrain Loss: 0.627 | Train Acc: 64.93%\n",
            "\t Val. Loss: 0.630 |  Val. Acc: 71.03%\n",
            "Epoch: 08 | Epoch Time: 5m 20s\n",
            "\tTrain Loss: 0.599 | Train Acc: 68.26%\n",
            "\t Val. Loss: 0.607 |  Val. Acc: 71.22%\n",
            "Epoch: 09 | Epoch Time: 5m 21s\n",
            "\tTrain Loss: 0.565 | Train Acc: 71.57%\n",
            "\t Val. Loss: 0.584 |  Val. Acc: 72.67%\n",
            "Epoch: 10 | Epoch Time: 5m 17s\n",
            "\tTrain Loss: 0.532 | Train Acc: 73.81%\n",
            "\t Val. Loss: 0.561 |  Val. Acc: 74.64%\n"
          ],
          "name": "stdout"
        }
      ]
    },
    {
      "cell_type": "code",
      "metadata": {
        "id": "iqT8Vze500n8",
        "colab_type": "code",
        "colab": {
          "base_uri": "https://localhost:8080/",
          "height": 316
        },
        "outputId": "58dc8a94-f655-4ffc-8fc1-3feff6a65216"
      },
      "source": [
        "# Total 15 Epochs\n",
        "\n",
        "N_EPOCHS = 5\n",
        "run_train(N_EPOCHS, model, train_iterator, valid_iterator, optimizer, criterion, \"TextCNN\")"
      ],
      "execution_count": 51,
      "outputs": [
        {
          "output_type": "stream",
          "text": [
            "/usr/local/lib/python3.6/dist-packages/torch/nn/functional.py:1614: UserWarning: nn.functional.tanh is deprecated. Use torch.tanh instead.\n",
            "  warnings.warn(\"nn.functional.tanh is deprecated. Use torch.tanh instead.\")\n"
          ],
          "name": "stderr"
        },
        {
          "output_type": "stream",
          "text": [
            "Epoch: 01 | Epoch Time: 5m 19s\n",
            "\tTrain Loss: 0.497 | Train Acc: 76.64%\n",
            "\t Val. Loss: 0.540 |  Val. Acc: 75.17%\n",
            "Epoch: 02 | Epoch Time: 5m 18s\n",
            "\tTrain Loss: 0.466 | Train Acc: 78.73%\n",
            "\t Val. Loss: 0.526 |  Val. Acc: 75.11%\n",
            "Epoch: 03 | Epoch Time: 5m 17s\n",
            "\tTrain Loss: 0.442 | Train Acc: 80.04%\n",
            "\t Val. Loss: 0.520 |  Val. Acc: 74.41%\n",
            "Epoch: 04 | Epoch Time: 5m 20s\n",
            "\tTrain Loss: 0.418 | Train Acc: 81.78%\n",
            "\t Val. Loss: 0.503 |  Val. Acc: 75.83%\n",
            "Epoch: 05 | Epoch Time: 5m 21s\n",
            "\tTrain Loss: 0.391 | Train Acc: 83.28%\n",
            "\t Val. Loss: 0.490 |  Val. Acc: 76.87%\n"
          ],
          "name": "stdout"
        }
      ]
    },
    {
      "cell_type": "code",
      "metadata": {
        "id": "Og3hUVRuMC1x",
        "colab_type": "code",
        "colab": {
          "base_uri": "https://localhost:8080/",
          "height": 316
        },
        "outputId": "16c8a5cc-dd14-40d8-fbb6-36444b9d3fb0"
      },
      "source": [
        "# Total 20 Epochs\n",
        "\n",
        "N_EPOCHS = 5\n",
        "run_train(N_EPOCHS, model, train_iterator, valid_iterator, optimizer, criterion, \"TextCNN\")"
      ],
      "execution_count": 53,
      "outputs": [
        {
          "output_type": "stream",
          "text": [
            "/usr/local/lib/python3.6/dist-packages/torch/nn/functional.py:1614: UserWarning: nn.functional.tanh is deprecated. Use torch.tanh instead.\n",
            "  warnings.warn(\"nn.functional.tanh is deprecated. Use torch.tanh instead.\")\n"
          ],
          "name": "stderr"
        },
        {
          "output_type": "stream",
          "text": [
            "Epoch: 01 | Epoch Time: 5m 18s\n",
            "\tTrain Loss: 0.362 | Train Acc: 84.83%\n",
            "\t Val. Loss: 0.480 |  Val. Acc: 77.03%\n",
            "Epoch: 02 | Epoch Time: 5m 21s\n",
            "\tTrain Loss: 0.346 | Train Acc: 85.72%\n",
            "\t Val. Loss: 0.476 |  Val. Acc: 76.91%\n",
            "Epoch: 03 | Epoch Time: 5m 19s\n",
            "\tTrain Loss: 0.322 | Train Acc: 87.08%\n",
            "\t Val. Loss: 0.471 |  Val. Acc: 77.09%\n",
            "Epoch: 04 | Epoch Time: 5m 20s\n",
            "\tTrain Loss: 0.306 | Train Acc: 87.81%\n",
            "\t Val. Loss: 0.476 |  Val. Acc: 76.18%\n",
            "Epoch: 05 | Epoch Time: 5m 21s\n",
            "\tTrain Loss: 0.281 | Train Acc: 89.01%\n",
            "\t Val. Loss: 0.461 |  Val. Acc: 77.86%\n"
          ],
          "name": "stdout"
        }
      ]
    },
    {
      "cell_type": "code",
      "metadata": {
        "id": "v2tEG42pMExg",
        "colab_type": "code",
        "colab": {
          "base_uri": "https://localhost:8080/",
          "height": 70
        },
        "outputId": "dc70029c-6188-4c36-80bb-131bf3dc2e1b"
      },
      "source": [
        "# Testing\n",
        "\n",
        "model.load_state_dict(torch.load('/content/saved_weights_TextCNN.pt'))\n",
        "\n",
        "test_loss, test_acc = evaluate(model, test_iterator, criterion)\n",
        "\n",
        "print(f'Test Loss: {test_loss:.3f} | Test Acc: {test_acc*100:.2f}%')"
      ],
      "execution_count": 54,
      "outputs": [
        {
          "output_type": "stream",
          "text": [
            "/usr/local/lib/python3.6/dist-packages/torch/nn/functional.py:1614: UserWarning: nn.functional.tanh is deprecated. Use torch.tanh instead.\n",
            "  warnings.warn(\"nn.functional.tanh is deprecated. Use torch.tanh instead.\")\n"
          ],
          "name": "stderr"
        },
        {
          "output_type": "stream",
          "text": [
            "Test Loss: 0.479 | Test Acc: 77.02%\n"
          ],
          "name": "stdout"
        }
      ]
    },
    {
      "cell_type": "code",
      "metadata": {
        "id": "83_Vf8SUVs8E",
        "colab_type": "code",
        "colab": {}
      },
      "source": [
        ""
      ],
      "execution_count": null,
      "outputs": []
    }
  ]
}